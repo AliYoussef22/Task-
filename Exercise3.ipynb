{
 "cells": [
  {
   "cell_type": "markdown",
   "id": "ba4d8c70-b602-45f4-983d-9761ec42e25e",
   "metadata": {},
   "source": [
    "## Exercise No.3"
   ]
  },
  {
   "cell_type": "markdown",
   "id": "2064f43f-0df3-44a8-a16e-fac5b5515ba9",
   "metadata": {},
   "source": [
    "**1-write program for circle class. This class has the following:**\n",
    "* Attribute: its name is pi with value 3.14\n",
    "* During the object create the raduis attribute is asigned by the raduis of circle\n",
    "* Has two methods to calculate the Area and Circumference of circle"
   ]
  },
  {
   "cell_type": "code",
   "execution_count": 11,
   "id": "bbeab109",
   "metadata": {},
   "outputs": [],
   "source": [
    "class ccircle :\n",
    "    def __init__(self, raduis):\n",
    "        pi = 3.14\n",
    "        self.radis = raduis\n",
    "        self.area = pi*(raduis)**2\n",
    "        self.Circumference = 2*pi*raduis\n",
    "       "
   ]
  },
  {
   "cell_type": "markdown",
   "id": "fd47b546-5a34-4693-a188-e4f5fb43ef55",
   "metadata": {},
   "source": [
    "**2. Write a program for a Rectangle class.**\n",
    "\n",
    "Attributes: length and width (set through constructor)\n",
    "\n",
    "Methods:\n",
    "\n",
    "area() – returns the area\n",
    "\n",
    "perimeter() – returns the perimeter"
   ]
  },
  {
   "cell_type": "code",
   "execution_count": 12,
   "id": "fcca6f6c",
   "metadata": {},
   "outputs": [],
   "source": [
    "class Rectangle :\n",
    "\n",
    "   def __init__(self,length,width):\n",
    "      self.length = length \n",
    "      self.width = width\n",
    "\n",
    "      def area (self):\n",
    "         area =  self.length * self.width\n",
    "      return area\n",
    "\n",
    "      def perimeter (self) :\n",
    "         perimeter (self.length + self.width) * 2 \n",
    "      return perimeter"
   ]
  },
  {
   "cell_type": "markdown",
   "id": "f7831422-c199-4cfd-88a6-b989997b4911",
   "metadata": {},
   "source": [
    "**3-Write a program for an Employee class using class method.**\n",
    "Attributes: name and salary\n",
    "\n",
    "Class attribute: company_name\n",
    "\n",
    "Use a class method to change the company_name for all employees"
   ]
  },
  {
   "cell_type": "code",
   "execution_count": 13,
   "id": "58829912",
   "metadata": {},
   "outputs": [
    {
     "name": "stdout",
     "output_type": "stream",
     "text": [
      "karem 2000 asd\n",
      "karem 2000 ugub\n"
     ]
    }
   ],
   "source": [
    "class Employee :\n",
    "    company_name = \"asd\"\n",
    "    def __init__(self,name,salary):\n",
    "        self.name = name\n",
    "        self.salary = salary\n",
    "    \n",
    "    @classmethod\n",
    "    def change_the_company_name(cls, company_new_name):\n",
    "        cls.company_name = company_new_name\n",
    "    \n",
    "\n",
    "    def show (self):\n",
    "        print(self.name,self.salary,self.company_name)\n",
    "\n",
    "Employee1 = Employee(\"karem\",2000)\n",
    "Employee1.show()\n",
    "\n",
    "Employee.change_the_company_name(\"ugub\")\n",
    "Employee1.show()"
   ]
  },
  {
   "cell_type": "markdown",
   "id": "354fa199-a3c8-4ea6-ae2e-79ed45c7f0bc",
   "metadata": {},
   "source": [
    "**4- Create a Shape class and two child classes Square and Circle.**\n",
    "\n",
    "Use polymorphism to define a method area()\n",
    "\n",
    "Use a loop to calculate area for both shapes using a common function"
   ]
  },
  {
   "cell_type": "code",
   "execution_count": 14,
   "id": "81fec3fd",
   "metadata": {},
   "outputs": [],
   "source": [
    "class Shape :\n",
    "    def __init__(self,name):\n",
    "        self.name = name\n",
    "    def area():\n",
    "        pass\n",
    "\n",
    "class Square(Shape):\n",
    "    def __init__(self, name , said):\n",
    "        self.name = name\n",
    "        self.said = said\n",
    "    def area(self):\n",
    "        return self.said * 4\n",
    "\n",
    "class ccircle (Shape):\n",
    "    def __init__(self, raduis):\n",
    "        pi = 3.14\n",
    "        self.radis = raduis\n",
    "        self.area = pi*(raduis)**2\n",
    "        self.Circumference = 2*pi*raduis\n",
    "       "
   ]
  },
  {
   "cell_type": "markdown",
   "id": "ff656a62-e1e0-4855-8aab-65c6af6f60c5",
   "metadata": {},
   "source": [
    "**5-Create a 1D NumPy array of numbers from 0 to 9**"
   ]
  },
  {
   "cell_type": "code",
   "execution_count": 15,
   "id": "a13f7841",
   "metadata": {},
   "outputs": [
    {
     "data": {
      "text/plain": [
       "array([0, 1, 2, 3, 4, 5, 6, 7, 8, 9])"
      ]
     },
     "execution_count": 15,
     "metadata": {},
     "output_type": "execute_result"
    }
   ],
   "source": [
    "import numpy as np\n",
    "array= np.arange(0,10)\n",
    "array"
   ]
  },
  {
   "cell_type": "markdown",
   "id": "e50cfc0f-df3a-41a0-ba8c-447917bea0f1",
   "metadata": {},
   "source": [
    "**6-Create a 4x4 NumPy array of all True values**"
   ]
  },
  {
   "cell_type": "code",
   "execution_count": 16,
   "id": "792cf086",
   "metadata": {},
   "outputs": [
    {
     "data": {
      "text/plain": [
       "array([[ True,  True,  True,  True],\n",
       "       [ True,  True,  True,  True],\n",
       "       [ True,  True,  True,  True],\n",
       "       [ True,  True,  True,  True]])"
      ]
     },
     "execution_count": 16,
     "metadata": {},
     "output_type": "execute_result"
    }
   ],
   "source": [
    "array1 = np.ones((4,4) , dtype = bool)\n",
    "array1"
   ]
  },
  {
   "cell_type": "markdown",
   "id": "561875e4-753d-4cc9-9059-4ccacc377500",
   "metadata": {},
   "source": [
    "**7-Create an array of 10 random floats between 0 and 1**"
   ]
  },
  {
   "cell_type": "code",
   "execution_count": 17,
   "id": "e084a3fd",
   "metadata": {},
   "outputs": [
    {
     "data": {
      "text/plain": [
       "array([[0.02994596, 0.27495618, 0.98049504, 0.82395717, 0.45972976],\n",
       "       [0.10549061, 0.40134821, 0.87341164, 0.3192998 , 0.35435864],\n",
       "       [0.05336541, 0.86417759, 0.89680298, 0.76170912, 0.16356444],\n",
       "       [0.08731828, 0.3971525 , 0.78090325, 0.62516809, 0.30381051],\n",
       "       [0.10223861, 0.81991499, 0.77189316, 0.17475303, 0.29156434]])"
      ]
     },
     "execution_count": 17,
     "metadata": {},
     "output_type": "execute_result"
    }
   ],
   "source": [
    "array2= np.random.rand(5,5)\n",
    "array2"
   ]
  },
  {
   "cell_type": "markdown",
   "id": "65aeb073-35e1-42b6-afaa-41cb2365fb61",
   "metadata": {},
   "source": [
    "**8-Create a NumPy array of even numbers from 2 to 20**"
   ]
  },
  {
   "cell_type": "code",
   "execution_count": 18,
   "id": "b4405362",
   "metadata": {},
   "outputs": [
    {
     "data": {
      "text/plain": [
       "array([ 2,  4,  6,  8, 10, 12, 14, 16, 18, 20])"
      ]
     },
     "execution_count": 18,
     "metadata": {},
     "output_type": "execute_result"
    }
   ],
   "source": [
    "array3 = np.arange(2,21, 2)\n",
    "array3"
   ]
  },
  {
   "cell_type": "markdown",
   "id": "3d9bd0c4-c80e-41f4-a553-8a2ba05ac7fc",
   "metadata": {},
   "source": [
    "**9-Get the maximum, minimum, and mean of an random array**"
   ]
  },
  {
   "cell_type": "code",
   "execution_count": 19,
   "id": "aeacf62f",
   "metadata": {},
   "outputs": [
    {
     "name": "stdout",
     "output_type": "stream",
     "text": [
      "[ 7 38 31 75 63 29 30 94 41 91]\n",
      "94\n",
      "7\n",
      "49.9\n"
     ]
    }
   ],
   "source": [
    "array4 = np.random.randint(0,100 , 10)\n",
    "array4\n",
    "maximum =np.max(array4)\n",
    "minimum =np.min(array4)\n",
    "mean = np.mean(array4)\n",
    "print(array4) \n",
    "print(maximum)\n",
    "print(minimum)\n",
    "print(mean)\n",
    "\n"
   ]
  },
  {
   "cell_type": "markdown",
   "id": "965439c7-cd2d-491f-820e-e154857ec595",
   "metadata": {},
   "source": [
    "**10-Flatten a 2D array to 1D**"
   ]
  },
  {
   "cell_type": "code",
   "execution_count": 20,
   "id": "9152d3b0-a1b3-4086-9028-bd65fec715e9",
   "metadata": {},
   "outputs": [
    {
     "data": {
      "text/plain": [
       "array([[ 5, 87],\n",
       "       [ 7, 45]])"
      ]
     },
     "execution_count": 20,
     "metadata": {},
     "output_type": "execute_result"
    }
   ],
   "source": [
    "array5 = np.array([[5, 87], [7, 45]])\n",
    "array5"
   ]
  }
 ],
 "metadata": {
  "kernelspec": {
   "display_name": "Python 3",
   "language": "python",
   "name": "python3"
  },
  "language_info": {
   "codemirror_mode": {
    "name": "ipython",
    "version": 3
   },
   "file_extension": ".py",
   "mimetype": "text/x-python",
   "name": "python",
   "nbconvert_exporter": "python",
   "pygments_lexer": "ipython3",
   "version": "3.10.11"
  }
 },
 "nbformat": 4,
 "nbformat_minor": 5
}
