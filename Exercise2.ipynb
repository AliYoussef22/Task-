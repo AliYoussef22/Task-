{
 "cells": [
  {
   "cell_type": "markdown",
   "id": "5e4c0be6-02ec-4e19-be30-f98eb81a5445",
   "metadata": {},
   "source": [
    "## Exercise No.2"
   ]
  },
  {
   "cell_type": "markdown",
   "id": "f89c27d6-d15c-482d-8913-b679e4b6c3fb",
   "metadata": {},
   "source": [
    "**1-. Write a program to check whether a person is eligibl (age over 18 year)e for voting or not. (accept age from user**)"
   ]
  },
  {
   "cell_type": "code",
   "execution_count": 1,
   "id": "08e34c11-8255-4438-99cb-969dafae65cc",
   "metadata": {},
   "outputs": [
    {
     "name": "stdout",
     "output_type": "stream",
     "text": [
      "is not eligibl for voting\n"
     ]
    }
   ],
   "source": [
    "age = int(input(\"enter age\"))\n",
    "if  age >= 18 :\n",
    "    print('is eligibl for voting')\n",
    "else :\n",
    "    print('is not eligibl for voting')"
   ]
  },
  {
   "cell_type": "markdown",
   "id": "88198e9a-4bb2-435e-9f1a-f0f4b651e017",
   "metadata": {},
   "source": [
    "**2-Use\n",
    "to print all the even numbers from 0 to 10.**"
   ]
  },
  {
   "cell_type": "code",
   "execution_count": 2,
   "id": "05a8096f-f7bd-4f62-b905-649994127436",
   "metadata": {
    "scrolled": true
   },
   "outputs": [
    {
     "name": "stdout",
     "output_type": "stream",
     "text": [
      "[ 0  2  4  6  8 10]\n"
     ]
    }
   ],
   "source": [
    "import numpy as np\n",
    "numbers = np.arange(0,11 ,2)\n",
    "print(numbers)"
   ]
  },
  {
   "cell_type": "markdown",
   "id": "7e2dd7b5-a4fe-422a-a0eb-39342b8eae16",
   "metadata": {},
   "source": [
    "**4-Use for, .split(), and if to create a Statement that will print out words that start with 's':**"
   ]
  },
  {
   "cell_type": "code",
   "execution_count": 3,
   "id": "d808396d-585c-41d0-b14a-1063513f8a2c",
   "metadata": {},
   "outputs": [],
   "source": [
    "st = '**4-Use for, .split(), and if to create a Statement that will print out words that start with'"
   ]
  },
  {
   "cell_type": "code",
   "execution_count": 2,
   "id": "0f441ee6-17b9-48e3-bfc3-26c08043294d",
   "metadata": {},
   "outputs": [
    {
     "name": "stdout",
     "output_type": "stream",
     "text": [
      "st\n",
      "start\n"
     ]
    }
   ],
   "source": [
    "st = input(\"Enter your sentence : \")\n",
    "words = st.split()\n",
    "for word in words:\n",
    "    if word.startswith('s'):\n",
    "        print(word)"
   ]
  },
  {
   "cell_type": "code",
   "execution_count": null,
   "id": "caa4d5fe-dc44-43a3-8680-fb5cdd514fa7",
   "metadata": {},
   "outputs": [],
   "source": []
  },
  {
   "cell_type": "markdown",
   "id": "88195511-f717-424c-9333-c65e4505b9af",
   "metadata": {},
   "source": [
    "**5-Write a Python program that accepts a word from the user and reverses it**."
   ]
  },
  {
   "cell_type": "raw",
   "id": "a803e607-99f6-4e12-a08f-fc9cfaa8c2f0",
   "metadata": {},
   "source": [
    "example:\n",
    "input : Input a word to reverse:  hello world\n",
    "output: dlrow olleh"
   ]
  },
  {
   "cell_type": "code",
   "execution_count": null,
   "id": "ae77efcf-439d-4843-9340-0b50c7f6714e",
   "metadata": {},
   "outputs": [
    {
     "name": "stdout",
     "output_type": "stream",
     "text": [
      "nbvnkj\n",
      "jknvbn\n"
     ]
    }
   ],
   "source": [
    "word_from_the_user = input(\"Write a word : \")\n",
    "reverses_word = (word_from_the_user[::-1])\n",
    "print(word_from_the_user)\n",
    "print(reverses_word)\n",
    "\n"
   ]
  },
  {
   "cell_type": "markdown",
   "id": "038fe8b9-b2fc-4a3a-bc24-7b3c56968389",
   "metadata": {},
   "source": [
    "**6-Write a Python program to count the number of even and odd numbers in a series of numbers** ers : 4"
   ]
  },
  {
   "cell_type": "raw",
   "id": "57b80153-3fee-4b1a-a715-03f82e5ab05f",
   "metadata": {},
   "source": [
    "\n",
    "Sample numbers : numbers = (1, 2, 3, 4, 5, 6, 7, 8, ) \n",
    "\n",
    "Expected Output :\n",
    "\n",
    "Number of even numbers : 5\n",
    "Number of odd numbers : 4"
   ]
  },
  {
   "cell_type": "code",
   "execution_count": 7,
   "id": "fc3f5240-5801-41db-add1-967456795551",
   "metadata": {},
   "outputs": [
    {
     "name": "stdout",
     "output_type": "stream",
     "text": [
      "Number_of_even_numbers is 24\n",
      "Number_of_odd_numbers is 25\n"
     ]
    }
   ],
   "source": [
    "num1 = int(input(\"num 1\"))\n",
    "num2 = int(input(\"num 2\"))\n",
    "numbers = range(num1,num2)\n",
    "Number_of_even_numbers = 0\n",
    "Number_of_odd_numbers = 0\n",
    "for number in numbers :\n",
    "    if number % 2 == 0 :\n",
    "        Number_of_even_numbers += 1\n",
    "    else :\n",
    "        Number_of_odd_numbers += 1\n",
    "print(\"Number_of_even_numbers is \" +str(Number_of_even_numbers))\n",
    "print(\"Number_of_odd_numbers is \" + str(Number_of_odd_numbers))    \n",
    "\n",
    "#print(Number_of_odd_numbers,Number_of_even_numbers)\n",
    "\n",
    "\n",
    "\n",
    "\n",
    "\n"
   ]
  },
  {
   "cell_type": "markdown",
   "id": "04493004-08ed-41ed-90aa-edc6f2172337",
   "metadata": {},
   "source": [
    "**7-Write a Python program that iterates the integers from 1 to 50. For multiples of three print \"Fizz\" instead of the number and for multiples of five print \"Buzz\". For numbers that are multiples of three and five, print \"FizzBuzz\".**"
   ]
  },
  {
   "cell_type": "raw",
   "id": "568ae5c6-a16f-4d8f-8f65-44f006033b2f",
   "metadata": {},
   "source": [
    "Sample Output :\n",
    "\n",
    "fizzbuzz\n",
    "1\n",
    "2\n",
    "fizz\n",
    "4\n",
    "buzz"
   ]
  },
  {
   "cell_type": "code",
   "execution_count": 7,
   "id": "cd431394-1146-48ca-aec1-133ed7573cfa",
   "metadata": {},
   "outputs": [
    {
     "name": "stdout",
     "output_type": "stream",
     "text": [
      "FizzBuzz\n",
      "31\n",
      "32\n",
      "Fizz\n",
      "34\n",
      "Buzz\n",
      "Fizz\n",
      "37\n",
      "38\n",
      "Fizz\n",
      "Buzz\n",
      "41\n",
      "Fizz\n",
      "43\n",
      "44\n",
      "FizzBuzz\n",
      "46\n",
      "47\n",
      "Fizz\n",
      "49\n",
      "Buzz\n",
      "Fizz\n",
      "52\n",
      "53\n",
      "Fizz\n",
      "Buzz\n",
      "56\n",
      "Fizz\n",
      "58\n",
      "59\n",
      "FizzBuzz\n",
      "61\n",
      "62\n",
      "Fizz\n",
      "64\n",
      "Buzz\n",
      "Fizz\n",
      "67\n",
      "68\n",
      "Fizz\n",
      "Buzz\n",
      "71\n",
      "Fizz\n",
      "73\n",
      "74\n",
      "FizzBuzz\n",
      "76\n",
      "77\n",
      "Fizz\n",
      "79\n",
      "Buzz\n",
      "Fizz\n",
      "82\n",
      "83\n",
      "Fizz\n",
      "Buzz\n",
      "86\n",
      "Fizz\n",
      "88\n",
      "89\n",
      "FizzBuzz\n",
      "91\n",
      "92\n",
      "Fizz\n",
      "94\n",
      "Buzz\n",
      "Fizz\n",
      "97\n",
      "98\n",
      "Fizz\n",
      "Buzz\n",
      "101\n",
      "Fizz\n",
      "103\n",
      "104\n",
      "FizzBuzz\n",
      "106\n",
      "107\n",
      "Fizz\n",
      "109\n",
      "Buzz\n",
      "Fizz\n",
      "112\n",
      "113\n",
      "Fizz\n",
      "Buzz\n",
      "116\n",
      "Fizz\n",
      "118\n",
      "119\n",
      "FizzBuzz\n",
      "121\n",
      "122\n",
      "Fizz\n",
      "124\n",
      "Buzz\n",
      "Fizz\n",
      "127\n",
      "128\n",
      "Fizz\n"
     ]
    }
   ],
   "source": [
    "def fizzbuzz():\n",
    "    num1 = int(input(\"num 1\"))\n",
    "    num2 = int(input(\"num 2\"))\n",
    "    numbers = range(num1,num2)\n",
    "    for i in numbers :\n",
    "        if i % 3 == 0 and i % 5 == 0 :\n",
    "            print (\"FizzBuzz\")\n",
    "        elif i % 5 == 0 :\n",
    "            print (\"Buzz\")\n",
    "        elif i % 3 == 0 :\n",
    "            print (\"Fizz\")\n",
    "        else :\n",
    "            print(i)\n",
    "fizzbuzz()"
   ]
  },
  {
   "cell_type": "markdown",
   "id": "04f47be7-57ea-4ded-8465-acd37978d577",
   "metadata": {},
   "source": [
    "**8. Write a program to calculate the electricity bill (accept number of unit from user) according to the following criteria :**"
   ]
  },
  {
   "cell_type": "raw",
   "id": "2fea2ccc-2846-4a65-acd4-293242847901",
   "metadata": {},
   "source": [
    "             Unit                                                     Price  \n",
    "First 100 units                                               no charge\n",
    "Next 100 units                                              Rs 5 per unit\n",
    "After 200 units                                             Rs 10 per unit\n",
    "(For example if input unit is 350 than total bill amount is Rs2000)"
   ]
  },
  {
   "cell_type": "code",
   "execution_count": 17,
   "id": "3fa95086-bca7-4805-8456-2bd0ca08934a",
   "metadata": {},
   "outputs": [
    {
     "name": "stdout",
     "output_type": "stream",
     "text": [
      "Rs 10 per unit\n"
     ]
    }
   ],
   "source": [
    "Unit = int(input(\"number of unit from user\"))\n",
    "if Unit >= 200 :\n",
    "    print(\"Rs 10 per unit\")\n",
    "elif Unit >= 100 :\n",
    "    print(\"Rs 5 per unit\")\n",
    "elif Unit <  100 : \n",
    "    print(\"no charge\")\n"
   ]
  },
  {
   "cell_type": "markdown",
   "id": "db79fd91-2592-40d8-8174-73a8924128be",
   "metadata": {},
   "source": [
    "**9-Handle the exception thrown by the code below by using try and except blocks.**"
   ]
  },
  {
   "cell_type": "code",
   "execution_count": 18,
   "id": "d86458cc-ca03-4891-87c4-de388318aaa0",
   "metadata": {},
   "outputs": [
    {
     "name": "stdout",
     "output_type": "stream",
     "text": [
      "something went wrong unsupported operand type(s) for ** or pow(): 'str' and 'int'\n"
     ]
    }
   ],
   "source": [
    "try:\n",
    "    for i in ['a','b','c']:\n",
    "        print(i**2)\n",
    "except Exception as e :\n",
    "    print (\"something went wrong\", e)"
   ]
  },
  {
   "cell_type": "markdown",
   "id": "ad723da5-8966-4637-889a-59d1256610a3",
   "metadata": {},
   "source": [
    "**10-create your module \"MyTemp\" which contain two function :**\n",
    "\n",
    "1.fahrenheit_to_celsius : its equation (Temperature in degrees Fahrenheit (°F) = (Temperature in degrees Celsius (°C) * 9/5) + 32)\n",
    "\n",
    "2.celsius_to_fahrenheit: its equation (Temperature in degrees Celsius (°C) = (Temperature in degrees Fahrenheit (°F) - 32) * 5/9)\n"
   ]
  },
  {
   "cell_type": "code",
   "execution_count": null,
   "id": "2b3682aa-bccd-47e4-967b-889854521686",
   "metadata": {},
   "outputs": [],
   "source": [
    "import MyTemp as mt\n",
    "tm.Temperature_in_degrees_Fahrenheit\n",
    "tm.Temperature_in_degrees_Celsius"
   ]
  }
 ],
 "metadata": {
  "kernelspec": {
   "display_name": "Python 3",
   "language": "python",
   "name": "python3"
  },
  "language_info": {
   "codemirror_mode": {
    "name": "ipython",
    "version": 3
   },
   "file_extension": ".py",
   "mimetype": "text/x-python",
   "name": "python",
   "nbconvert_exporter": "python",
   "pygments_lexer": "ipython3",
   "version": "3.10.11"
  }
 },
 "nbformat": 4,
 "nbformat_minor": 5
}
